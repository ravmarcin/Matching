{
  "nbformat": 4,
  "nbformat_minor": 0,
  "metadata": {
    "colab": {
      "name": "mentor2mentee.ipynb",
      "provenance": [],
      "collapsed_sections": [
        "g-Wvcgl3siYE",
        "JW8mNo8Fd9rw",
        "hUVFFmHs6D8b"
      ],
      "authorship_tag": "ABX9TyM8eIBeidwX0l3NUY9Jjrnu"
    },
    "kernelspec": {
      "name": "python3",
      "display_name": "Python 3"
    },
    "language_info": {
      "name": "python"
    }
  },
  "cells": [
    {
      "cell_type": "code",
      "source": [
        "user = ''\n",
        "user_profile = '"
      ],
      "metadata": {
        "id": "-jSIwDcm4ddM"
      },
      "execution_count": 1,
      "outputs": []
    },
    {
      "cell_type": "markdown",
      "source": [
        "# 1. Install required libraries."
      ],
      "metadata": {
        "id": "sE8Ewo-4pt-T"
      }
    },
    {
      "cell_type": "code",
      "source": [
        "!pip install googletrans==3.1.0a0"
      ],
      "metadata": {
        "id": "gae8DqtloGia"
      },
      "execution_count": null,
      "outputs": []
    },
    {
      "cell_type": "markdown",
      "source": [
        "# 2. Mount the drive"
      ],
      "metadata": {
        "id": "_MhL4TlSpkQ1"
      }
    },
    {
      "cell_type": "code",
      "execution_count": null,
      "metadata": {
        "id": "nyLywjSfN-Hg"
      },
      "outputs": [],
      "source": [
        "from google.colab import drive\n",
        "drive.mount('/content/drive')"
      ]
    },
    {
      "cell_type": "markdown",
      "source": [
        "# 3. Import functions, libraries and directories. Prefilter Mentee for non assign"
      ],
      "metadata": {
        "id": "g-Wvcgl3siYE"
      }
    },
    {
      "cell_type": "code",
      "source": [
        "import sys\n",
        "import os\n",
        "import nltk\n",
        "from google.colab import data_table\n",
        "\n",
        "home_dir = '/content/drive/MyDrive/Colab Notebooks/'\n",
        "sys.path.insert(0, home_dir + 'functions/')\n",
        "from utils import *\n",
        "from widgets import *\n",
        "\n",
        "#Import nltk objects\n",
        "nltk.download('punkt')\n",
        "nltk.download('averaged_perceptron_tagger')\n",
        "nltk.download('wordnet')\n",
        "nltk.download('omw-1.4')\n",
        "nltk.download('stopwords')\n",
        "\n",
        "# File location\n",
        "mentor_pd = home_dir + 'Data/Goodjob Mentorship Program _ Mentor Form (Responses).xlsx'\n",
        "mentee_pd = home_dir + 'Data/Goodjob Mentorship Program _ Mentee Form (Responses).xlsx'\n",
        "mentee_pd_temp = home_dir + 'temp/Goodjob Mentorship Program _ Mentee Form (Responses).xlsx'\n",
        "lang_file = home_dir + '/Utils/Languages.txt'"
      ],
      "metadata": {
        "id": "tYsdSXFPqUPL"
      },
      "execution_count": null,
      "outputs": []
    },
    {
      "cell_type": "code",
      "source": [
        "# assign column = 14\n",
        "check_df = check_if_assign(df_dir=mentee_pd, col_check=14)\n",
        "# column for id check\n",
        "# new_df = check_if_new_rec(new_ver_dir=mentee_pd, temp_dir=mentee_pd_temp, col_check=1)\n",
        "\n",
        "# [language, new role, theme, location]\n",
        "params_for_mentee = [5, 9, 10, 12]\n",
        "mentee_df_new_reduce = reduce_df(df=check_df, params=params_for_mentee, id_col=1)\n",
        "\n",
        "\n",
        "# [language, current role, theme, location]\n",
        "params_for_mentor = [4, 8, 10, 13]\n",
        "mentor_df = import_xlsx(mentor_pd)\n",
        "mentor_df_check = check_if_busy(df=mentor_df)\n",
        "mentor_df_reduce = reduce_df(df=mentor_df_check, params=params_for_mentor, id_col=1)\n",
        "\n",
        "\n",
        "# trans mentee with these new columns and get one mentee\n",
        "cols_to_trans = [1, 2, 3, 4]\n",
        "mentee_df_new_reduce_trans = trans_df(df=mentee_df_new_reduce, lang='en', cols=cols_to_trans, trans_col_names=False)"
      ],
      "metadata": {
        "id": "V7AcIigwekZ_"
      },
      "execution_count": 5,
      "outputs": []
    },
    {
      "cell_type": "markdown",
      "source": [
        "# 4. Select Mentee"
      ],
      "metadata": {
        "id": "f4y34cBt6snY"
      }
    },
    {
      "cell_type": "code",
      "source": [
        "# Select Mentee\n",
        "drop_mentee = IActiveDF(df_in=check_df)\n"
      ],
      "metadata": {
        "id": "Ygul9_x_qfkC"
      },
      "execution_count": null,
      "outputs": []
    },
    {
      "cell_type": "markdown",
      "source": [
        "# 5. Match Mentor to Mentee"
      ],
      "metadata": {
        "id": "JW8mNo8Fd9rw"
      }
    },
    {
      "cell_type": "code",
      "source": [
        "# Get selected dataframe\n",
        "mentee_df_new_reduce_trans_one = get_mentee(df=mentee_df_new_reduce_trans, val=drop_mentee.value, col=0)\n",
        "\n",
        "# Filtering the languages for Mentors\n",
        "lang_mentor_ls_uq, lang_mentor_np, mentor_df_reduce_fil = filter_by(df=mentor_df_reduce, col=1, f_dir=lang_file)\n",
        "\n",
        "\n",
        "# Matching Mentors to Mentees based on the language\n",
        "lang_strong_match_ls = strong_match(df_to_fil=mentee_df_new_reduce_trans_one,\n",
        "                                    df_from_to=mentor_df_reduce_fil, f_dir=lang_file,\n",
        "                                    words_uq=lang_mentor_ls_uq, words_ls=lang_mentor_np,\n",
        "                                    by_col_to=1, col_to=0, col_from=0)\n",
        "\n",
        "\n",
        "# Matching Mentors to Mentees based on the text\n",
        "text_light_match_ls = light_match(df_to_fil=mentee_df_new_reduce_trans_one,\n",
        "                                  df_from_to_ls=lang_strong_match_ls, by_cols_to=[3], by_cols_from=[3])\n",
        "\n"
      ],
      "metadata": {
        "id": "Tt970rg0e-B9"
      },
      "execution_count": 7,
      "outputs": []
    },
    {
      "cell_type": "markdown",
      "source": [
        "# 6. Select mentor"
      ],
      "metadata": {
        "id": "BEyBLeS7e_lo"
      }
    },
    {
      "cell_type": "code",
      "source": [
        "columns_vis = ['Email', 'Language', 'New role', 'What to learn', 'Location']\n",
        "mentee_vis = mentee_df_new_reduce_trans_one\n",
        "mentee_vis.columns = columns_vis\n",
        "data_table.DataTable(mentee_df_new_reduce_trans_one, include_index=False) "
      ],
      "metadata": {
        "id": "6F-g0f8RmHDk"
      },
      "execution_count": null,
      "outputs": []
    },
    {
      "cell_type": "code",
      "source": [
        "# View the table\n",
        "mentor_vis = check_dupl(text_light_match_ls[0], idx_col=0)\n",
        "mentor_vis_n = check_dupl(mentor_vis, idx_col=0)\n",
        "mentor_vis_n.columns = columns_vis + ['Ratio']\n",
        "col_ls = mentor_vis_n.columns.values.tolist()\n",
        "data_table.DataTable(mentor_vis_n.sort_values(by=col_ls[-1], ascending=False), include_index=False)"
      ],
      "metadata": {
        "id": "HOh3UfIzVEzy"
      },
      "execution_count": null,
      "outputs": []
    },
    {
      "cell_type": "code",
      "source": [
        "drop_mentor = IActiveDF(df_in=text_light_match_ls[0], col=0, by_col=-1)"
      ],
      "metadata": {
        "id": "Ba2xxySw3s-D"
      },
      "execution_count": null,
      "outputs": []
    },
    {
      "cell_type": "markdown",
      "source": [
        "# 7. Update the file."
      ],
      "metadata": {
        "id": "hUVFFmHs6D8b"
      }
    },
    {
      "cell_type": "code",
      "source": [
        "mentee_df = import_xlsx(in_dir=mentee_pd)\n",
        "mentee_df_update = update_df(df=mentee_df, val_idx=drop_mentee.value, val_to_fill=drop_mentor.value, user=user)\n",
        "mentor_df = import_xlsx(in_dir=mentor_pd)\n",
        "mentor_df_update = update_mentor_df(df=mentor_df, val_idx=drop_mentor.value, val_to_fill=drop_mentee.value, user=user)\n",
        "\n",
        "# Hashtag this line for automatic run\n",
        "#save_xlsx(df=mentee_df_update, in_dir=mentee_pd, out_dir=mentee_pd)\n",
        "#save_xlsx(df=mentor_df_update, in_dir=mentor_pd, out_dir=mentor_pd)"
      ],
      "metadata": {
        "id": "lyQA_kVJ4IIw"
      },
      "execution_count": 11,
      "outputs": []
    },
    {
      "cell_type": "markdown",
      "source": [
        "# 8. Generate the email."
      ],
      "metadata": {
        "id": "OHjfZwq3l0jd"
      }
    },
    {
      "cell_type": "code",
      "source": [
        "mentee_dict = get_mentee_info(df=mentee_df_update, val=str(drop_mentee.value))\n",
        "mentee_name = str(mentee_dict['name']).split()[0]\n",
        "mentor_dict = get_mentor_info(df=mentor_df, val=str(drop_mentor.value))\n",
        "mentor_name = str(mentor_dict['name']).split()[0]\n",
        "user_name = str(user).split()[0]\n",
        "\n",
        "class style:\n",
        "   BOLD = '\\033[1m'\n",
        "   END = '\\033[0m'\n",
        "   ITALIC = '\\x1B[3m'\n",
        "   I_END = '\\x1B[0m'\n",
        "\n",
        "email = [\n",
        "         f\"Hi \" + style.BOLD + mentee_name + style.END + f\" and \" + style.BOLD + mentor_name + style.END + f\"\\n\\n\",\n",
        "         f\"My name is \" + style.BOLD + user_name + style.END + f\" (\" + user_profile + \").\\n\",\n",
        "         f\"I’m a Mentorship Coordinator at https://www.findyourgoodjob.com/. And I hope you are both doing well! \\n\",\n",
        "         f\"Dear \" + style.BOLD + mentee_name + style.END + f\", I’m happy to introduce you to – \" + style.BOLD + mentor_name + style.END + f\", who will be your mentor. \\n\",\n",
        "\t\t     f\"Huge thank you to you, \" + style.BOLD + mentor_name + style.END + f\", for offering your mentorship to Ukrainians. We appreciate your willingness to help from the bottom of our hearts!\",\n",
        "\t\t     f\"\\U0001F493\",\n",
        "\t\t     f\"\\n\\n\\n\",\n",
        "\t\t     f\"About \" + style.BOLD + mentor_name + style.END + f\":\\n\",\n",
        "\t\t     mentor_dict['role'] + f\"\\n\",\n",
        "\t\t     style.BOLD + f\"LinkedIn profile: \" + style.END + mentor_dict['linkedin'] + f\"\\n\",\n",
        "\t\t     style.BOLD + f\"Location: \" + style.END  + mentor_dict['location'] + f\"\\n\",\n",
        "\t\t     style.BOLD + f\"Experience: \" + style.END  + mentor_dict['experience'] + f\"\\n\",\n",
        "\t\t     style.BOLD + f\"Happy to help with: \" + style.END  + mentor_dict['topic'] + f\"\\n\",\n",
        "\t\t     f\"\\n\\n\\n\",\n",
        "\t\t     f\"About \" + style.BOLD + mentee_name + style.END + f\":\\n\",\n",
        "\t\t     mentee_dict['role'] + f\"\\n\",\n",
        "\t\t     style.BOLD + f\"LinkedIn profile: \" + style.END + mentee_dict['linkedin'] + f\"\\n\",\n",
        "\t\t     style.BOLD + f\"Location: \" + style.END  + mentee_dict['location'] + f\"\\n\",\n",
        "\t\t     style.BOLD + f\"Experience in: \" + style.END  + mentee_dict['experience'] + f\"\\n\",\n",
        "\t\t     style.BOLD + f\"Goal: \" + style.END  + mentee_dict['topic'] + f\"\\n\",\n",
        "         f\"\\n\\n\\n\",\n",
        "         style.BOLD + f\"My role in this program is\" + style.END  + f\" – to help mentees find a perfect match (their mentor), and to introduce you to each other. From this point on, \\n\",\n",
        "         style.BOLD + mentee_name + style.END + f\", it's up to you to organize your first session with \" + style.BOLD + mentor_name + style.END + f\". \\n\",\n",
        "         f\"I would highly recommend sharing your CV and your goals before the first session.\",\n",
        "         f\"\\n\\n\\n\",\n",
        "         \"Please keep our email – nastya@findyourgoojob.com in CC of your correspondence.\",\n",
        "         f\"\\n\\n\\n\",\n",
        "         style.BOLD + f\"IMPORTANT:\\n\" + style.END,\n",
        "         f\"Helpful guidelines & expectations:\\n\\n\",\n",
        "         f\"     1. Both mentor and mentee are \" + style.BOLD +  f\"bound by a confidentiality agreement\" + style.END + f\". Everything that is discussed during the sessions remains confidential, including any meeting notes.\\n\",\n",
        "         f\"     2. Both mentor and mentee are \" + style.BOLD +  f\"committed\" + style.END + f\" to being present and in sync to achieve the mentoring goals of their sessions. It is their \" + style.BOLD +  f\"mutual responsibility\" + style.END + f\" to show up for meetings and agree on their frequency based on their availability and needs.\\n\".rjust(20, ' '),\n",
        "         f\"     3. Originally your mentor is responsible for 2-3 sessions and is up to a mutual agreement to continue with regular sessions.\\n\",\n",
        "         f\"     4. It is the mentee’s responsibility to have an idea of the goals they would like to achieve through their sessions. It is a mutual responsibility of mentor and mentee to \" + style.BOLD +  f\"agree and clearly state the goals\" + style.END + f\" and ideal outcomes (state the metrics of success).\\n\".rjust(20, ' '),\n",
        "         f\"     5. It is the mentee’s responsibility to reach out to \" + style.BOLD +  f\"organize the meetings, and prepare and drive the conversations\" + style.END + f\" according to their goals. It is the mentor’s responsibility to guide the mentee and answer any questions or bring them in contact with other team members if needed.\\n\".rjust(20, ' '),\n",
        "         f\"     6. It is the mentee’s responsibility to \" + style.BOLD +  f\"“do the homework”\" + style.END + f\", and show commitment to achieving the set goals.\\n\",\n",
        "         f\"\\n\\n\\n\",\n",
        "         style.ITALIC + style.BOLD + f\"Worth Mentioning:\\n\\n\" + style.END + style.I_END,\n",
        "         style.ITALIC + f\"The goal of this initiative is to bring Ukrainian mentees closer to successful mentors from all over the world and help Ukrainians to ease up the burden of finding a new job or making the next career step during those difficult times.\\n\\n\" + style.I_END,\n",
        "         style.ITALIC + f\"It will help if you are clear-minded about what your goal is before speaking with your mentor. The conversation may take a different path, but you’ll generally get more out of the chat if you can pinpoint your most important questions from the get-go.\\n\\n\" + style.I_END,\n",
        "         style.ITALIC + f\"Mentors are here to help you navigate the complexity of evolving as a creator, and the challenges and opportunities that go with that. They are here to accelerate the path to your personal goals through sharing their own experience and unveiling implicit rules.\\n\\n\" + style.I_END,\n",
        "         style.ITALIC + f\"They are not responsible for your results or performance, but may help you deliver on them faster!\\n\\n\" + style.I_END,\n",
        "         style.ITALIC + f\"Your mentoring sessions will likely be one hour, bi-weekly or once a month, but there is not a set schedule, rather you will work with your mentor to find the best timing and frequency.\\n\\n\" + style.I_END,\n",
        "         style.ITALIC + f\"Lastly, the content of your conversation should be treated as confidential. This means you shouldn’t share personal information your mentor may tell you about themselves, unless they tell you otherwise.\\n\\n\" + style.I_END,\n",
        "         f\"Please let me know if you have any questions. I hope you will find this initiative helpful, fulfilling and rewarding.\",\n",
        "         f\"\\n\\n\\n\",\n",
        "         f\"Thank you <3\\n\\n\",\n",
        "         f\"Yours, \" + style.ITALIC + user_name + style.I_END + f\"\\n\",\n",
        "         f\"Mentorship Coordinator at https://www.findyourgoodjob.com/\"\n",
        "\t\t     ]\n",
        "text = \"\"\n",
        "for line in email:\n",
        "  text += line\n",
        "print(text)"
      ],
      "metadata": {
        "id": "4sHc-BqCkcTA"
      },
      "execution_count": null,
      "outputs": []
    }
  ]
}
